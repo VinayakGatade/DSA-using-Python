{
 "cells": [
  {
   "cell_type": "code",
   "execution_count": 305,
   "id": "96304bd5",
   "metadata": {},
   "outputs": [],
   "source": [
    "import ctypes"
   ]
  },
  {
   "cell_type": "code",
   "execution_count": 306,
   "id": "d227dda2",
   "metadata": {},
   "outputs": [],
   "source": [
    "class Darr:\n",
    "    def __init__(self):\n",
    "        self.size = 1\n",
    "        self.n = 0\n",
    "        self.A = self.make_array(self.size)\n",
    "        \n",
    "    def make_array(self,capacity):\n",
    "    # referential array(C type)\n",
    "        return (capacity*ctypes.py_object)()\n",
    "    \n",
    "    def resize(self,new_capacity):\n",
    "        B = self.make_array(new_capacity)\n",
    "        self.size = new_capacity\n",
    "        #copying all the data from the old one\n",
    "        for i in range(self.n):\n",
    "            B[i] = self.A[i]\n",
    "        self.A = B\n",
    "    \n",
    "    #append data\n",
    "#     def append(self,item):\n",
    "#         if self.n == self.size: #we will resize\n",
    "#             self.resize(self.size*2)\n",
    "            \n",
    "#         self.A[self.n] = item\n",
    "#         self.n = self.n + 1\n",
    "    def append(self,item):\n",
    "    # check if vacant\n",
    "        if self.n == self.size:\n",
    "      # array is full -> resize\n",
    "          self.resize(self.size*2)\n",
    "\n",
    "        self.A[self.n] = item\n",
    "        self.n = self.n + 1\n",
    "        \n",
    "        \n",
    "    #length of the array\n",
    "    def length(self):\n",
    "        return self.size\n",
    "    \n",
    "    #printing items we will use __str__ for that\n",
    "    def __str__(self):\n",
    "        result = ''\n",
    "        for i in range(self.n):\n",
    "            result = result + str(self.A[i]) + \" ,\" \n",
    "        return \"[\"+result[:-1]+\"]\"\n",
    "    \n",
    "    #indexing for that we will use __getitem__ \n",
    "    def __getitem__(self,index):\n",
    "        if 0 <= index < self.n:\n",
    "            return self.A[index]\n",
    "        else:\n",
    "            return \"IndexError\"\n",
    "        \n",
    "    #pop\n",
    "    def pop(self):\n",
    "        if self.n == 0:\n",
    "            return 'Empty Array'\n",
    "        print(self.A[self.n-1],\"Will be deleted\")\n",
    "        self.n = self.n-1\n",
    "        \n",
    "    #clear\n",
    "    def clear(self):\n",
    "        self.n = 0\n",
    "        self.size = 1\n",
    "        \n",
    "    #finding element \n",
    "    def find(self,item):\n",
    "        \n",
    "        for i in range(self.n):\n",
    "            if self.A[i] == item:\n",
    "                return i\n",
    "        return \"Value Error!\"\n",
    "    \n",
    "    #insert the item\n",
    "    def insert(self,pos,item):\n",
    "        #seeing that any empty space is there or not\n",
    "        if self.n == self.size:\n",
    "            self.resize(self.size*2)\n",
    "        for i in range(self.n,pos,-1):\n",
    "            #shifting the values\n",
    "            self.A[i] = self.A[i-1]\n",
    "        #storing that element\n",
    "        self.A[pos] = item\n",
    "        self.n = self.n+1\n",
    "        \n",
    "    #delete item for that we will use __delitem__\n",
    "    def __delitem__(self,pos):\n",
    "        if 0 <= pos <self.n:\n",
    "            for i in range(pos,self.n-1):\n",
    "                self.A[i] = self.A[i+1]\n",
    "\n",
    "            self.n = self.n-1\n",
    "            \n",
    "    #remove element\n",
    "    def remove(self,item):\n",
    "        pos = self.find(item)\n",
    "        \n",
    "        if type(pos) == int:\n",
    "            self.__delitem__(pos)\n",
    "        else:\n",
    "            return pos\n",
    "            \n",
    "            "
   ]
  },
  {
   "cell_type": "code",
   "execution_count": 307,
   "id": "08f08e42",
   "metadata": {},
   "outputs": [],
   "source": [
    "A =Darr()"
   ]
  },
  {
   "cell_type": "code",
   "execution_count": 308,
   "id": "756a12a8",
   "metadata": {},
   "outputs": [],
   "source": [
    "A.append(1)\n",
    "A.append(\"ABC\")\n",
    "A.append(True)\n",
    "A.append(3.14)"
   ]
  },
  {
   "cell_type": "code",
   "execution_count": 309,
   "id": "45724828",
   "metadata": {},
   "outputs": [
    {
     "data": {
      "text/plain": [
       "4"
      ]
     },
     "execution_count": 309,
     "metadata": {},
     "output_type": "execute_result"
    }
   ],
   "source": [
    "A.size"
   ]
  },
  {
   "cell_type": "code",
   "execution_count": 310,
   "id": "dc4405df",
   "metadata": {},
   "outputs": [],
   "source": [
    "A.append(1)"
   ]
  },
  {
   "cell_type": "code",
   "execution_count": 311,
   "id": "5d322267",
   "metadata": {},
   "outputs": [
    {
     "data": {
      "text/plain": [
       "8"
      ]
     },
     "execution_count": 311,
     "metadata": {},
     "output_type": "execute_result"
    }
   ],
   "source": [
    "A.length()"
   ]
  },
  {
   "cell_type": "code",
   "execution_count": 312,
   "id": "e4fe44b2",
   "metadata": {},
   "outputs": [
    {
     "name": "stdout",
     "output_type": "stream",
     "text": [
      "[1 ,ABC ,True ,3.14 ,1 ]\n"
     ]
    }
   ],
   "source": [
    "print(A)"
   ]
  },
  {
   "cell_type": "code",
   "execution_count": 313,
   "id": "8dd99e17",
   "metadata": {},
   "outputs": [
    {
     "data": {
      "text/plain": [
       "'IndexError'"
      ]
     },
     "execution_count": 313,
     "metadata": {},
     "output_type": "execute_result"
    }
   ],
   "source": [
    "A[10]"
   ]
  },
  {
   "cell_type": "code",
   "execution_count": 314,
   "id": "49680be6",
   "metadata": {},
   "outputs": [
    {
     "data": {
      "text/plain": [
       "'ABC'"
      ]
     },
     "execution_count": 314,
     "metadata": {},
     "output_type": "execute_result"
    }
   ],
   "source": [
    "A[1]"
   ]
  },
  {
   "cell_type": "code",
   "execution_count": 315,
   "id": "e4b6d3de",
   "metadata": {},
   "outputs": [
    {
     "name": "stdout",
     "output_type": "stream",
     "text": [
      "1 Will be deleted\n"
     ]
    }
   ],
   "source": [
    "A.pop()"
   ]
  },
  {
   "cell_type": "code",
   "execution_count": 316,
   "id": "ef8e4c60",
   "metadata": {},
   "outputs": [
    {
     "name": "stdout",
     "output_type": "stream",
     "text": [
      "[1 ,ABC ,True ,3.14 ]\n"
     ]
    }
   ],
   "source": [
    "print(A)"
   ]
  },
  {
   "cell_type": "code",
   "execution_count": null,
   "id": "27c28719",
   "metadata": {},
   "outputs": [],
   "source": []
  },
  {
   "cell_type": "code",
   "execution_count": 317,
   "id": "05a46b1d",
   "metadata": {},
   "outputs": [
    {
     "data": {
      "text/plain": [
       "3"
      ]
     },
     "execution_count": 317,
     "metadata": {},
     "output_type": "execute_result"
    }
   ],
   "source": [
    "A.find(3.14)"
   ]
  },
  {
   "cell_type": "code",
   "execution_count": 318,
   "id": "799e00df",
   "metadata": {},
   "outputs": [],
   "source": [
    "A.insert(0,45)"
   ]
  },
  {
   "cell_type": "code",
   "execution_count": 319,
   "id": "dae77747",
   "metadata": {},
   "outputs": [
    {
     "name": "stdout",
     "output_type": "stream",
     "text": [
      "[45 ,1 ,ABC ,True ,3.14 ]\n"
     ]
    }
   ],
   "source": [
    "print(A)"
   ]
  },
  {
   "cell_type": "code",
   "execution_count": 320,
   "id": "f49a8f06",
   "metadata": {},
   "outputs": [],
   "source": [
    "del A[2]"
   ]
  },
  {
   "cell_type": "code",
   "execution_count": 321,
   "id": "08f7786d",
   "metadata": {},
   "outputs": [
    {
     "name": "stdout",
     "output_type": "stream",
     "text": [
      "[45 ,1 ,True ,3.14 ]\n"
     ]
    }
   ],
   "source": [
    "print(A)"
   ]
  },
  {
   "cell_type": "code",
   "execution_count": 328,
   "id": "3a436f96",
   "metadata": {},
   "outputs": [
    {
     "data": {
      "text/plain": [
       "'Value Error!'"
      ]
     },
     "execution_count": 328,
     "metadata": {},
     "output_type": "execute_result"
    }
   ],
   "source": [
    "A.remove(True)"
   ]
  },
  {
   "cell_type": "code",
   "execution_count": 329,
   "id": "67f300cc",
   "metadata": {},
   "outputs": [
    {
     "name": "stdout",
     "output_type": "stream",
     "text": [
      "[45 ]\n"
     ]
    }
   ],
   "source": [
    "print(A)"
   ]
  },
  {
   "cell_type": "code",
   "execution_count": 188,
   "id": "7ec4e2ac",
   "metadata": {},
   "outputs": [],
   "source": [
    "A.clear()"
   ]
  },
  {
   "cell_type": "code",
   "execution_count": 128,
   "id": "4161dd9b",
   "metadata": {},
   "outputs": [
    {
     "name": "stdout",
     "output_type": "stream",
     "text": [
      "[]\n"
     ]
    }
   ],
   "source": [
    "print(A)"
   ]
  },
  {
   "cell_type": "code",
   "execution_count": null,
   "id": "aac17e7b",
   "metadata": {},
   "outputs": [],
   "source": []
  }
 ],
 "metadata": {
  "kernelspec": {
   "display_name": "Python 3 (ipykernel)",
   "language": "python",
   "name": "python3"
  },
  "language_info": {
   "codemirror_mode": {
    "name": "ipython",
    "version": 3
   },
   "file_extension": ".py",
   "mimetype": "text/x-python",
   "name": "python",
   "nbconvert_exporter": "python",
   "pygments_lexer": "ipython3",
   "version": "3.10.9"
  }
 },
 "nbformat": 4,
 "nbformat_minor": 5
}
