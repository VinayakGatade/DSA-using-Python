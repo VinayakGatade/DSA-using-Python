{
 "cells": [
  {
   "cell_type": "code",
   "execution_count": 47,
   "id": "277cbc97",
   "metadata": {},
   "outputs": [],
   "source": [
    "class Stack:\n",
    "    def __init__(self,size):\n",
    "        self.size = size\n",
    "        self.stack = [None] * self.size\n",
    "        self.top = -1\n",
    "        \n",
    "    \n",
    "    #for printing elements\n",
    "    def traverse(self):\n",
    "        for i in range(self.top + 1):\n",
    "            print(self.stack[i], end=\" \")\n",
    "        \n",
    "    \n",
    "    #push\n",
    "    def push(self,value):\n",
    "        if self.top == self.size - 1:\n",
    "            return \"Stack Overflow\"\n",
    "        else:\n",
    "            self.top += 1\n",
    "            self.stack[self.top] = value\n",
    "            \n",
    "    \n",
    "    #pop\n",
    "    def pop(self):\n",
    "        if self.top == -1:\n",
    "            return \"Underflow\"\n",
    "        else:\n",
    "            data = self.stack[self.top]\n",
    "            self.top -= 1\n",
    "            print(data)"
   ]
  },
  {
   "cell_type": "code",
   "execution_count": 48,
   "id": "0c279c0c",
   "metadata": {},
   "outputs": [],
   "source": [
    "S = Stack(3)"
   ]
  },
  {
   "cell_type": "code",
   "execution_count": 50,
   "id": "4fbbcfcb",
   "metadata": {},
   "outputs": [
    {
     "ename": "AttributeError",
     "evalue": "'Stack' object has no attribute 'stack'",
     "output_type": "error",
     "traceback": [
      "\u001b[1;31m---------------------------------------------------------------------------\u001b[0m",
      "\u001b[1;31mAttributeError\u001b[0m                            Traceback (most recent call last)",
      "Cell \u001b[1;32mIn[50], line 1\u001b[0m\n\u001b[1;32m----> 1\u001b[0m \u001b[43mS\u001b[49m\u001b[38;5;241;43m.\u001b[39;49m\u001b[43mpush\u001b[49m\u001b[43m(\u001b[49m\u001b[38;5;241;43m1\u001b[39;49m\u001b[43m)\u001b[49m\n\u001b[0;32m      2\u001b[0m S\u001b[38;5;241m.\u001b[39mpush(\u001b[38;5;241m2\u001b[39m)\n\u001b[0;32m      3\u001b[0m S\u001b[38;5;241m.\u001b[39mpush(\u001b[38;5;241m3\u001b[39m)\n",
      "Cell \u001b[1;32mIn[47], line 20\u001b[0m, in \u001b[0;36mStack.push\u001b[1;34m(self, value)\u001b[0m\n\u001b[0;32m     18\u001b[0m \u001b[38;5;28;01melse\u001b[39;00m:\n\u001b[0;32m     19\u001b[0m     \u001b[38;5;28mself\u001b[39m\u001b[38;5;241m.\u001b[39mtop \u001b[38;5;241m+\u001b[39m\u001b[38;5;241m=\u001b[39m \u001b[38;5;241m1\u001b[39m\n\u001b[1;32m---> 20\u001b[0m     \u001b[38;5;28;43mself\u001b[39;49m\u001b[38;5;241;43m.\u001b[39;49m\u001b[43mstack\u001b[49m[\u001b[38;5;28mself\u001b[39m\u001b[38;5;241m.\u001b[39mtop] \u001b[38;5;241m=\u001b[39m value\n",
      "\u001b[1;31mAttributeError\u001b[0m: 'Stack' object has no attribute 'stack'"
     ]
    }
   ],
   "source": [
    "S.push(1)\n",
    "S.push(2)\n",
    "S.push(3)"
   ]
  },
  {
   "cell_type": "code",
   "execution_count": 51,
   "id": "930fe9c4",
   "metadata": {},
   "outputs": [
    {
     "ename": "AttributeError",
     "evalue": "'Stack' object has no attribute 'stack'",
     "output_type": "error",
     "traceback": [
      "\u001b[1;31m---------------------------------------------------------------------------\u001b[0m",
      "\u001b[1;31mAttributeError\u001b[0m                            Traceback (most recent call last)",
      "Cell \u001b[1;32mIn[51], line 1\u001b[0m\n\u001b[1;32m----> 1\u001b[0m \u001b[43mS\u001b[49m\u001b[38;5;241;43m.\u001b[39;49m\u001b[43mstack\u001b[49m\n",
      "\u001b[1;31mAttributeError\u001b[0m: 'Stack' object has no attribute 'stack'"
     ]
    }
   ],
   "source": [
    "S.stack"
   ]
  },
  {
   "cell_type": "code",
   "execution_count": 43,
   "id": "c7a69f57",
   "metadata": {},
   "outputs": [
    {
     "name": "stdout",
     "output_type": "stream",
     "text": [
      "3\n"
     ]
    }
   ],
   "source": [
    "S.pop()"
   ]
  },
  {
   "cell_type": "code",
   "execution_count": 45,
   "id": "2998401b",
   "metadata": {},
   "outputs": [
    {
     "name": "stdout",
     "output_type": "stream",
     "text": [
      "2\n"
     ]
    }
   ],
   "source": [
    "S.pop()"
   ]
  },
  {
   "cell_type": "code",
   "execution_count": 46,
   "id": "7afc6e22",
   "metadata": {},
   "outputs": [
    {
     "name": "stdout",
     "output_type": "stream",
     "text": [
      "1 "
     ]
    }
   ],
   "source": [
    "S.traverse()"
   ]
  },
  {
   "cell_type": "code",
   "execution_count": null,
   "id": "fbee7e2a",
   "metadata": {},
   "outputs": [],
   "source": []
  },
  {
   "cell_type": "code",
   "execution_count": null,
   "id": "069695ec",
   "metadata": {},
   "outputs": [],
   "source": []
  }
 ],
 "metadata": {
  "kernelspec": {
   "display_name": "Python 3 (ipykernel)",
   "language": "python",
   "name": "python3"
  },
  "language_info": {
   "codemirror_mode": {
    "name": "ipython",
    "version": 3
   },
   "file_extension": ".py",
   "mimetype": "text/x-python",
   "name": "python",
   "nbconvert_exporter": "python",
   "pygments_lexer": "ipython3",
   "version": "3.10.9"
  }
 },
 "nbformat": 4,
 "nbformat_minor": 5
}
