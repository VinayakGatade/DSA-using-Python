{
 "cells": [
  {
   "cell_type": "code",
   "execution_count": 5,
   "id": "d35aee9c",
   "metadata": {},
   "outputs": [],
   "source": [
    "class Node():\n",
    "    def __init__(self,value):\n",
    "        self.data = value\n",
    "        self.next = None"
   ]
  },
  {
   "cell_type": "code",
   "execution_count": 8,
   "id": "ddb8b2ba",
   "metadata": {},
   "outputs": [],
   "source": [
    "class Queue():\n",
    "    def __init__(self):\n",
    "        self.front = None\n",
    "        self.rear = None\n",
    "    \n",
    "    \n",
    "    #enqueue - insert element\n",
    "    def enqueue(self,value):\n",
    "        new_node = Node(value)\n",
    "        \n",
    "        if self.rear == None:\n",
    "            self.front = self.new_node\n",
    "            self.rear = self.front\n",
    "        \n",
    "        else:\n",
    "            self.rear.next = new_node\n",
    "            new_node = self.rear\n",
    "            \n",
    "            \n",
    "    #dequeue - delete element\n",
    "    def dequeue(self):\n",
    "        if self.front == None:\n",
    "            return \"Empty Queue\"\n",
    "        else:\n",
    "            self.front = self.front.next\n",
    "            \n",
    "            \n",
    "    #traverse\n",
    "    def traverse(self):\n",
    "        temp = self.front\n",
    "        \n",
    "        while temp != None:\n",
    "            print(temp.data)\n",
    "            temp = temp.next"
   ]
  },
  {
   "cell_type": "code",
   "execution_count": 9,
   "id": "a480c7dc",
   "metadata": {},
   "outputs": [],
   "source": [
    "q = Queue()"
   ]
  },
  {
   "cell_type": "code",
   "execution_count": null,
   "id": "6d7474df",
   "metadata": {},
   "outputs": [],
   "source": []
  }
 ],
 "metadata": {
  "kernelspec": {
   "display_name": "Python 3 (ipykernel)",
   "language": "python",
   "name": "python3"
  },
  "language_info": {
   "codemirror_mode": {
    "name": "ipython",
    "version": 3
   },
   "file_extension": ".py",
   "mimetype": "text/x-python",
   "name": "python",
   "nbconvert_exporter": "python",
   "pygments_lexer": "ipython3",
   "version": "3.10.9"
  }
 },
 "nbformat": 4,
 "nbformat_minor": 5
}
