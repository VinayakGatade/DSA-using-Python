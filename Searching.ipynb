{
 "cells": [
  {
   "cell_type": "markdown",
   "id": "a7a2c842",
   "metadata": {},
   "source": [
    "### Linear Search"
   ]
  },
  {
   "cell_type": "code",
   "execution_count": 1,
   "id": "4b7196bf",
   "metadata": {},
   "outputs": [],
   "source": [
    "arr = []"
   ]
  },
  {
   "cell_type": "code",
   "execution_count": 2,
   "id": "a9d399f9",
   "metadata": {},
   "outputs": [],
   "source": [
    "def Linear_search(arr,item):\n",
    "    for i in range(len(arr)):\n",
    "        if arr[i] == item:\n",
    "            return i\n",
    "    return \"Item not found!!!\""
   ]
  },
  {
   "cell_type": "code",
   "execution_count": 3,
   "id": "a1e1807c",
   "metadata": {},
   "outputs": [],
   "source": [
    "arr = [22,44,77,1,0,3,2,5]"
   ]
  },
  {
   "cell_type": "code",
   "execution_count": 4,
   "id": "e2d87549",
   "metadata": {},
   "outputs": [],
   "source": [
    "l = Linear_search(arr,1000)"
   ]
  },
  {
   "cell_type": "code",
   "execution_count": 5,
   "id": "6cdfcd57",
   "metadata": {},
   "outputs": [
    {
     "data": {
      "text/plain": [
       "'Item not found!!!'"
      ]
     },
     "execution_count": 5,
     "metadata": {},
     "output_type": "execute_result"
    }
   ],
   "source": [
    "l"
   ]
  },
  {
   "cell_type": "code",
   "execution_count": 6,
   "id": "c5153c59",
   "metadata": {},
   "outputs": [],
   "source": [
    "r = Linear_search(arr,2)"
   ]
  },
  {
   "cell_type": "code",
   "execution_count": 7,
   "id": "8c120597",
   "metadata": {},
   "outputs": [
    {
     "data": {
      "text/plain": [
       "6"
      ]
     },
     "execution_count": 7,
     "metadata": {},
     "output_type": "execute_result"
    }
   ],
   "source": [
    "r"
   ]
  },
  {
   "cell_type": "code",
   "execution_count": 8,
   "id": "dc7c8364",
   "metadata": {},
   "outputs": [],
   "source": [
    "#Binary Search"
   ]
  },
  {
   "cell_type": "code",
   "execution_count": 9,
   "id": "6b147331",
   "metadata": {},
   "outputs": [],
   "source": [
    "arr = []"
   ]
  },
  {
   "cell_type": "code",
   "execution_count": 22,
   "id": "130fd0b2",
   "metadata": {},
   "outputs": [],
   "source": [
    "def binary_search(arr,low,high,item):\n",
    "    #item array mai present hai toh if mai chala jayega\n",
    "    if low <= high:\n",
    "        mid = (low + high) // 2\n",
    "        if arr[mid] == item:\n",
    "            return mid\n",
    "        elif arr[mid]> item:\n",
    "            return binary_search(arr,low,mid-1,item)\n",
    "        else:\n",
    "            return binary_search(arr,mid+1,high,item)\n",
    "        \n",
    "        \n",
    "\n",
    "    #agar item array mai present nahi hai toh\n",
    "    else:\n",
    "        return \"Item is not Found\""
   ]
  },
  {
   "cell_type": "code",
   "execution_count": 23,
   "id": "45dd07bb",
   "metadata": {},
   "outputs": [
    {
     "name": "stdout",
     "output_type": "stream",
     "text": [
      "7\n"
     ]
    }
   ],
   "source": [
    "arr = [1,2,3,4,5,6,7,8]\n",
    "print(binary_search(arr,0,len(arr)-1,8))"
   ]
  },
  {
   "cell_type": "code",
   "execution_count": 24,
   "id": "49d0b06a",
   "metadata": {},
   "outputs": [
    {
     "name": "stdout",
     "output_type": "stream",
     "text": [
      "Item is not Found\n"
     ]
    }
   ],
   "source": [
    "print(binary_search(arr,0,len(arr)-1,100))"
   ]
  },
  {
   "cell_type": "code",
   "execution_count": null,
   "id": "3c47972c",
   "metadata": {},
   "outputs": [],
   "source": []
  },
  {
   "cell_type": "code",
   "execution_count": null,
   "id": "d359c32d",
   "metadata": {},
   "outputs": [],
   "source": []
  }
 ],
 "metadata": {
  "kernelspec": {
   "display_name": "Python 3 (ipykernel)",
   "language": "python",
   "name": "python3"
  },
  "language_info": {
   "codemirror_mode": {
    "name": "ipython",
    "version": 3
   },
   "file_extension": ".py",
   "mimetype": "text/x-python",
   "name": "python",
   "nbconvert_exporter": "python",
   "pygments_lexer": "ipython3",
   "version": "3.10.9"
  }
 },
 "nbformat": 4,
 "nbformat_minor": 5
}
